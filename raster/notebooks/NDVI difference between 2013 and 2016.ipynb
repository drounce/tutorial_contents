{
 "cells": [
  {
   "cell_type": "code",
   "execution_count": 1,
   "metadata": {
    "collapsed": true
   },
   "outputs": [],
   "source": [
    "%matplotlib inline\n",
    "\n",
    "from osgeo import gdal\n",
    "import rasterio\n",
    "from matplotlib import pyplot\n",
    "import numpy\n",
    "import pygeoprocessing\n",
    "\n",
    "# Landsat 8 datasets from June 5, 2013\n",
    "L8_RED_2013 = '../data/landsat/LC08_L1TP_042034_20130605_20170310_01_T1_B4_120x120.TIF'\n",
    "L8_NIR_2013 = '../data/landsat/LC08_L1TP_042034_20130605_20170310_01_T1_B5_120x120.TIF'\n",
    "L8_QA_2013 = '../data/landsat/LC08_L1TP_042034_20130605_20170310_01_T1_BQA_120x120.TIF'\n",
    "L8_2013_FILES = [L8_RED_2013, L8_NIR_2013, L8_QA_2013]\n",
    "\n",
    "# Landsat 8 datasets from June 29, 2016\n",
    "L8_RED_2016 = '../data/landsat/LC08_L1TP_042034_20160629_20170222_01_T1_B4_120x120.TIF'\n",
    "L8_NIR_2016 = '../data/landsat/LC08_L1TP_042034_20160629_20170222_01_T1_B5_120x120.TIF'\n",
    "L8_QA_2016 = '../data/landsat/LC08_L1TP_042034_20160629_20170222_01_T1_BQA_120x120.TIF'\n",
    "L8_2016_FILES = [L8_RED_2016, L8_NIR_2016, L8_QA_2016]\n",
    "\n",
    "# We'll define an output nodata value.\n",
    "NODATA = -9999\n",
    "\n",
    "def plot(array):\n",
    "    \"\"\"Plot a numpy array with an NDVI colormap.\"\"\"\n",
    "    pyplot.imshow(array, cmap='RdYlGn')\n",
    "    pyplot.colorbar()\n",
    "    \n",
    "    \n",
    "def calc_ndvi(red, nir, qa):\n",
    "    \"\"\"Calculate NDVI from red and near-infrared landsat bands.\"\"\"\n",
    "    red = red.astype(numpy.float32)\n",
    "    nir = nir.astype(numpy.float32)\n",
    "    \n",
    "    ndvi = (nir - red) / (nir + red)\n",
    "    ndvi[qa==1] = NODATA\n",
    "    return ndvi"
   ]
  },
  {
   "cell_type": "markdown",
   "metadata": {
    "collapsed": true
   },
   "source": [
    "# Let's calculate change in NDVI between 2013 and 2016!"
   ]
  },
  {
   "cell_type": "code",
   "execution_count": 14,
   "metadata": {},
   "outputs": [
    {
     "ename": "NameError",
     "evalue": "global name 'nir' is not defined",
     "output_type": "error",
     "traceback": [
      "\u001b[0;31m\u001b[0m",
      "\u001b[0;31mNameError\u001b[0mTraceback (most recent call last)",
      "\u001b[0;32m<ipython-input-14-9f61d49e1e0c>\u001b[0m in \u001b[0;36m<module>\u001b[0;34m()\u001b[0m\n\u001b[1;32m     39\u001b[0m     \u001b[0;34m'diff_ndvi.tif'\u001b[0m\u001b[0;34m,\u001b[0m\u001b[0;34m\u001b[0m\u001b[0m\n\u001b[1;32m     40\u001b[0m     \u001b[0mgdal\u001b[0m\u001b[0;34m.\u001b[0m\u001b[0mGDT_Float32\u001b[0m\u001b[0;34m,\u001b[0m\u001b[0;34m\u001b[0m\u001b[0m\n\u001b[0;32m---> 41\u001b[0;31m     \u001b[0mNODATA\u001b[0m\u001b[0;34m\u001b[0m\u001b[0m\n\u001b[0m\u001b[1;32m     42\u001b[0m \u001b[0;34m\u001b[0m\u001b[0m\n\u001b[1;32m     43\u001b[0m )\n",
      "\u001b[0;32m/opt/anaconda/envs/rasterenv/lib/python2.7/site-packages/pygeoprocessing/geoprocessing.pyc\u001b[0m in \u001b[0;36mraster_calculator\u001b[0;34m(base_raster_path_band_list, local_op, target_raster_path, datatype_target, nodata_target, gtiff_creation_options, calc_raster_stats)\u001b[0m\n\u001b[1;32m    180\u001b[0m                 \u001b[0mbase_band_list\u001b[0m\u001b[0;34m[\u001b[0m\u001b[0mdataset_index\u001b[0m\u001b[0;34m]\u001b[0m\u001b[0;34m.\u001b[0m\u001b[0mReadAsArray\u001b[0m\u001b[0;34m(\u001b[0m\u001b[0;34m**\u001b[0m\u001b[0mband_data\u001b[0m\u001b[0;34m)\u001b[0m\u001b[0;34m\u001b[0m\u001b[0m\n\u001b[1;32m    181\u001b[0m \u001b[0;34m\u001b[0m\u001b[0m\n\u001b[0;32m--> 182\u001b[0;31m             \u001b[0mtarget_block\u001b[0m \u001b[0;34m=\u001b[0m \u001b[0mlocal_op\u001b[0m\u001b[0;34m(\u001b[0m\u001b[0;34m*\u001b[0m\u001b[0mraster_blocks\u001b[0m\u001b[0;34m)\u001b[0m\u001b[0;34m\u001b[0m\u001b[0m\n\u001b[0m\u001b[1;32m    183\u001b[0m \u001b[0;34m\u001b[0m\u001b[0m\n\u001b[1;32m    184\u001b[0m             target_band.WriteArray(\n",
      "\u001b[0;32m<ipython-input-14-9f61d49e1e0c>\u001b[0m in \u001b[0;36mdiff_ndvi\u001b[0;34m(red_2013, nir_2013, qa_2013, red_2016, nir_2016, qa_2016)\u001b[0m\n\u001b[1;32m     21\u001b[0m         \u001b[0mnir\u001b[0m \u001b[0;34m=\u001b[0m \u001b[0mnir\u001b[0m\u001b[0;34m[\u001b[0m\u001b[0mvalid_pixels\u001b[0m\u001b[0;34m]\u001b[0m\u001b[0;34m.\u001b[0m\u001b[0mastype\u001b[0m\u001b[0;34m(\u001b[0m\u001b[0mnumpy\u001b[0m\u001b[0;34m.\u001b[0m\u001b[0mfloat32\u001b[0m\u001b[0;34m)\u001b[0m\u001b[0;34m\u001b[0m\u001b[0m\n\u001b[1;32m     22\u001b[0m \u001b[0;34m\u001b[0m\u001b[0m\n\u001b[0;32m---> 23\u001b[0;31m     \u001b[0mndvi\u001b[0m \u001b[0;34m=\u001b[0m \u001b[0;34m(\u001b[0m\u001b[0mnir\u001b[0m \u001b[0;34m-\u001b[0m \u001b[0mred\u001b[0m\u001b[0;34m)\u001b[0m \u001b[0;34m/\u001b[0m \u001b[0;34m(\u001b[0m\u001b[0mnir\u001b[0m \u001b[0;34m+\u001b[0m \u001b[0mred\u001b[0m\u001b[0;34m)\u001b[0m\u001b[0;34m\u001b[0m\u001b[0m\n\u001b[0m\u001b[1;32m     24\u001b[0m     \u001b[0;32mreturn\u001b[0m \u001b[0mndvi\u001b[0m\u001b[0;34m\u001b[0m\u001b[0m\n\u001b[1;32m     25\u001b[0m \u001b[0;34m\u001b[0m\u001b[0m\n",
      "\u001b[0;31mNameError\u001b[0m: global name 'nir' is not defined"
     ]
    }
   ],
   "source": [
    "import pygeoprocessing\n",
    "\n",
    "aligned_files = ['al_red_2013.tif', 'al_nir_2013.tif', 'al_qa_2013.tif',\n",
    "     'al_red_2016.tif', 'al_nir_2016.tif', 'al_qa_2016.tif']\n",
    "\n",
    "pygeoprocessing.align_and_resize_raster_stack(\n",
    "    L8_2013_FILES + L8_2016_FILES, # input files\n",
    "    ['al_red_2013.tif', 'al_nir_2013.tif', 'al_qa_2013.tif',\n",
    "     'al_red_2016.tif', 'al_nir_2016.tif', 'al_qa_2016.tif'],# order matters\n",
    "    ['nearest']*6, # six element list (it's an abbreviated notation)\n",
    "    (120,-120),\n",
    "    'intersection'\n",
    ")\n",
    "\n",
    "def diff_ndvi(red_2013, nir_2013, qa_2013, red_2016, nir_2016, qa_2016):\n",
    "    valid_pixels = (qa_2013 != 1) & (qa_2016 != 1)\n",
    "    \n",
    "    def calc_ndvi_new(red, nir):\n",
    "        \"\"\"Calculate NDVI from red and near-infrared landsat bands.\"\"\"\n",
    "        red = red[valid_pixels].astype(numpy.float32)\n",
    "        nir = nir[valid_pixels].astype(numpy.float32)\n",
    "    \n",
    "    ndvi = (nir - red) / (nir + red)\n",
    "    return ndvi\n",
    "    \n",
    "    ndvi_2013 = calc_ndvi_new(red_2013, nir_2013)\n",
    "    ndvi_2016 = calc_ndvi_new(red_2016, nir_2016)\n",
    "    \n",
    "    output_ndvi = numpy.empty_like(red_2013, dtype=Numpy.float32)\n",
    "    # need to create an empty framework because the logical indexing changed the rows/cols\n",
    "    output_ndvi[:] = NODATA\n",
    "    output_ndvi[valid_pixels] = ndvi_2013 - ndvi_2016\n",
    "    \n",
    "    return output_ndvi\n",
    "\n",
    "pygeoprocessing.raster_calculator(\n",
    "    [(filename, 1) for filename in aligned_files],\n",
    "    diff_ndvi,\n",
    "    'diff_ndvi.tif',\n",
    "    gdal.GDT_Float32,\n",
    "    NODATA\n",
    "    \n",
    ")"
   ]
  },
  {
   "cell_type": "code",
   "execution_count": 12,
   "metadata": {},
   "outputs": [
    {
     "data": {
      "image/png": "[encoded data removed]",
      "text/plain": [
       "<matplotlib.figure.Figure at 0x7f2b546f5d50>"
      ]
     },
     "metadata": {},
     "output_type": "display_data"
    }
   ],
   "source": [
    "plot(gdal.Open('diff_ndvi.tif').ReadAsArray())"
   ]
  },
  {
   "cell_type": "code",
   "execution_count": null,
   "metadata": {
    "collapsed": true
   },
   "outputs": [],
   "source": []
  }
 ],
 "metadata": {
  "kernelspec": {
   "display_name": "Rasterenv",
   "language": "python",
   "name": "rasterenv"
  },
  "language_info": {
   "codemirror_mode": {
    "name": "ipython",
    "version": 2
   },
   "file_extension": ".py",
   "mimetype": "text/x-python",
   "name": "python",
   "nbconvert_exporter": "python",
   "pygments_lexer": "ipython2",
   "version": "2.7.13"
  }
 },
 "nbformat": 4,
 "nbformat_minor": 2
}
